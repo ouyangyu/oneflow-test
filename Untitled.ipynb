{
 "cells": [
  {
   "cell_type": "code",
   "execution_count": 4,
   "metadata": {},
   "outputs": [],
   "source": [
    "import argparse\n",
    "import matplotlib.pyplot as plt\n"
   ]
  },
  {
   "cell_type": "code",
   "execution_count": 18,
   "metadata": {},
   "outputs": [],
   "source": [
    "def extract_info_from_file(log_file):\n",
    "\n",
    "    result_y = []\n",
    "    result_x = []\n",
    "    result_z = []\n",
    "    with open(log_file, 'r') as f:\n",
    "        s_time = 0.0\n",
    "        for line in f.readlines():\n",
    "            ss = line.split(' ')\n",
    "            if ss[0] == 'step:':\n",
    "                result_x.append(int(ss[1][0:-1])+1)\n",
    "                result_y.append(float(ss[3][0:-1]))\n",
    "                if s_time == 0.0:\n",
    "                    s_time = float(ss[10])\n",
    "                else:\n",
    "                    result_z.append(float(ss[10])-s_time)\n",
    "                    s_time=0.0\n",
    "            elif ss[0] == 'DLL':\n",
    "                if ss[4] == 'Iteration:':\n",
    "                    result_x.append(int(ss[5]))\n",
    "                    result_y.append(float(ss[21]))\n",
    "\n",
    "    return result_x,result_z"
   ]
  },
  {
   "cell_type": "code",
   "execution_count": 20,
   "metadata": {},
   "outputs": [
    {
     "data": {
      "image/png": "[encoded data removed]",
      "text/plain": [
       "<Figure size 432x288 with 1 Axes>"
      ]
     },
     "metadata": {
      "needs_background": "light"
     },
     "output_type": "display_data"
    }
   ],
   "source": [
    "#tf_x, tf_y = extract_info_from_file('./bert_b32_fp32_display_loss_1.log')\n",
    "of_x, of_y = extract_info_from_file('./of_bert_fp32_b32_oneflow_display_loss_1.log')\n",
    "\n",
    "#l1, = plt.plot(tf_x, tf_y, label='tf total loss')\n",
    "l2, = plt.plot(of_x[0:len(of_y)], of_y, color='red', label='of total loss')\n",
    "plt.legend(loc = 'upper right')\n",
    "plt.show()"
   ]
  },
  {
   "cell_type": "code",
   "execution_count": 37,
   "metadata": {},
   "outputs": [
    {
     "data": {
      "image/png": "[encoded data removed]",
      "text/plain": [
       "<Figure size 432x288 with 1 Axes>"
      ]
     },
     "metadata": {
      "needs_background": "light"
     },
     "output_type": "display_data"
    }
   ],
   "source": [
    "def extract_info_from_file_a(log_file):\n",
    "\n",
    "    result_y = []\n",
    "    result_x = []\n",
    "    result_z = []\n",
    "    with open(log_file, 'r') as f:\n",
    "        s_time = 0.0\n",
    "        k=0\n",
    "        for line in f.readlines():\n",
    "            ss = line.split(' ')\n",
    "            if ss[0] == 'time:' and ss[1]:\n",
    "                if s_time == 0.0:\n",
    "                    s_time = float(ss[1][0:-1])\n",
    "                else:\n",
    "                    k=k+1\n",
    "                    result_x.append(k)\n",
    "                    result_z.append(float(ss[1][0:-1])-s_time)\n",
    "                    s_time=0.0\n",
    "            elif ss[0] == 'DLL':\n",
    "                if ss[4] == 'Iteration:':\n",
    "                    result_x.append(int(ss[5]))\n",
    "                    result_y.append(float(ss[21]))\n",
    "\n",
    "    return result_x,result_z\n",
    "\n",
    "#tf_x, tf_y = extract_info_from_file('./bert_b32_fp32_display_loss_1.log')\n",
    "of_x, of_y = extract_info_from_file_a('./oneflow_bert_display_loss_only_1.log')\n",
    "\n",
    "#l1, = plt.plot(tf_x, tf_y, label='tf total loss')\n",
    "l2, = plt.plot(of_x[0:len(of_y)], of_y, color='red', label='of total loss')\n",
    "plt.legend(loc = 'upper right')\n",
    "plt.show()"
   ]
  },
  {
   "cell_type": "code",
   "execution_count": null,
   "metadata": {},
   "outputs": [],
   "source": []
  }
 ],
 "metadata": {
  "kernelspec": {
   "display_name": "Python 3",
   "language": "python",
   "name": "python3"
  },
  "language_info": {
   "codemirror_mode": {
    "name": "ipython",
    "version": 3
   },
   "file_extension": ".py",
   "mimetype": "text/x-python",
   "name": "python",
   "nbconvert_exporter": "python",
   "pygments_lexer": "ipython3",
   "version": "3.7.9"
  }
 },
 "nbformat": 4,
 "nbformat_minor": 4
}
